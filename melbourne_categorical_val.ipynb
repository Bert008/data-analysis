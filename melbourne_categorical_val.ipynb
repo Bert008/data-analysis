{
 "cells": [
  {
   "cell_type": "markdown",
   "id": "e92c75cb-14b4-4036-ba6b-22fb6891c3be",
   "metadata": {},
   "source": [
    "# Variables Categoricas"
   ]
  },
  {
   "cell_type": "code",
   "execution_count": 12,
   "id": "a1e302a1-8f62-4ddc-8810-dfa2399dbe67",
   "metadata": {},
   "outputs": [],
   "source": [
    "# importamos las librerias\n",
    "import pandas as pd\n",
    "from sklearn.model_selection import train_test_split\n",
    "\n",
    "# importamos los datos\n",
    "data = pd.read_csv(\"data/melb_data.csv\")\n",
    "\n",
    "# asignamos el target y los predictores\n",
    "y = data.Price\n",
    "X = data.drop([\"Price\"], axis = 1)\n",
    "\n",
    "# asignamos los conjuntos de entrenamiento y validacion\n",
    "X_train_full,X_valid_full,y_train,y_valid = train_test_split(X,y,train_size=0.8,test_size=0.2,random_state=0)\n",
    "\n",
    "# eliminamos los datos faltantes (missing data)\n",
    "cols_with_missing = [col for col in X_train_full.columns if X_train_full[col].isnull().any()]\n",
    "X_train_full.drop(cols_with_missing,axis = 1, inplace = True)\n",
    "X_valid_full.drop(cols_with_missing,axis = 1, inplace = True)\n",
    "\n",
    "# ahora filtramos las columnas con la cardinalidad mas baja relativa\n",
    "# la cardinalidad es la propiedad que indica cuantos valores unicos contiene una columna\n",
    "low_cardinality_columns = [cname for cname in X_train_full.columns if X_train_full[cname].nunique() < 10\n",
    "                           and\n",
    "                           X_train_full[cname].dtype == \"object\"]\n",
    "\n",
    "# ahora seleccionamos las columnas numericas\n",
    "numeric_col = [cname for cname in X_train_full.columns if X_train_full[cname].dtype in ['int64','float64']]\n",
    "\n",
    "# ahora hacemos una copia de los datos completo que seran las que utilizaremos\n",
    "my_col = low_cardinality_columns + numeric_col\n",
    "X_train = X_train_full[my_col].copy()\n",
    "X_valid = X_valid_full[my_col].copy()"
   ]
  },
  {
   "cell_type": "code",
   "execution_count": 14,
   "id": "0e805a0e-4f79-4214-8660-e6f967adf32c",
   "metadata": {},
   "outputs": [
    {
     "data": {
      "text/html": [
       "<div>\n",
       "<style scoped>\n",
       "    .dataframe tbody tr th:only-of-type {\n",
       "        vertical-align: middle;\n",
       "    }\n",
       "\n",
       "    .dataframe tbody tr th {\n",
       "        vertical-align: top;\n",
       "    }\n",
       "\n",
       "    .dataframe thead th {\n",
       "        text-align: right;\n",
       "    }\n",
       "</style>\n",
       "<table border=\"1\" class=\"dataframe\">\n",
       "  <thead>\n",
       "    <tr style=\"text-align: right;\">\n",
       "      <th></th>\n",
       "      <th>Type</th>\n",
       "      <th>Method</th>\n",
       "      <th>Regionname</th>\n",
       "      <th>Rooms</th>\n",
       "      <th>Distance</th>\n",
       "      <th>Postcode</th>\n",
       "      <th>Bedroom2</th>\n",
       "      <th>Bathroom</th>\n",
       "      <th>Landsize</th>\n",
       "      <th>Lattitude</th>\n",
       "      <th>Longtitude</th>\n",
       "      <th>Propertycount</th>\n",
       "    </tr>\n",
       "  </thead>\n",
       "  <tbody>\n",
       "    <tr>\n",
       "      <th>12167</th>\n",
       "      <td>u</td>\n",
       "      <td>S</td>\n",
       "      <td>Southern Metropolitan</td>\n",
       "      <td>1</td>\n",
       "      <td>5.0</td>\n",
       "      <td>3182.0</td>\n",
       "      <td>1.0</td>\n",
       "      <td>1.0</td>\n",
       "      <td>0.0</td>\n",
       "      <td>-37.85984</td>\n",
       "      <td>144.9867</td>\n",
       "      <td>13240.0</td>\n",
       "    </tr>\n",
       "    <tr>\n",
       "      <th>6524</th>\n",
       "      <td>h</td>\n",
       "      <td>SA</td>\n",
       "      <td>Western Metropolitan</td>\n",
       "      <td>2</td>\n",
       "      <td>8.0</td>\n",
       "      <td>3016.0</td>\n",
       "      <td>2.0</td>\n",
       "      <td>2.0</td>\n",
       "      <td>193.0</td>\n",
       "      <td>-37.85800</td>\n",
       "      <td>144.9005</td>\n",
       "      <td>6380.0</td>\n",
       "    </tr>\n",
       "    <tr>\n",
       "      <th>8413</th>\n",
       "      <td>h</td>\n",
       "      <td>S</td>\n",
       "      <td>Western Metropolitan</td>\n",
       "      <td>3</td>\n",
       "      <td>12.6</td>\n",
       "      <td>3020.0</td>\n",
       "      <td>3.0</td>\n",
       "      <td>1.0</td>\n",
       "      <td>555.0</td>\n",
       "      <td>-37.79880</td>\n",
       "      <td>144.8220</td>\n",
       "      <td>3755.0</td>\n",
       "    </tr>\n",
       "    <tr>\n",
       "      <th>2919</th>\n",
       "      <td>u</td>\n",
       "      <td>SP</td>\n",
       "      <td>Northern Metropolitan</td>\n",
       "      <td>3</td>\n",
       "      <td>13.0</td>\n",
       "      <td>3046.0</td>\n",
       "      <td>3.0</td>\n",
       "      <td>1.0</td>\n",
       "      <td>265.0</td>\n",
       "      <td>-37.70830</td>\n",
       "      <td>144.9158</td>\n",
       "      <td>8870.0</td>\n",
       "    </tr>\n",
       "    <tr>\n",
       "      <th>6043</th>\n",
       "      <td>h</td>\n",
       "      <td>S</td>\n",
       "      <td>Western Metropolitan</td>\n",
       "      <td>3</td>\n",
       "      <td>13.3</td>\n",
       "      <td>3020.0</td>\n",
       "      <td>3.0</td>\n",
       "      <td>1.0</td>\n",
       "      <td>673.0</td>\n",
       "      <td>-37.76230</td>\n",
       "      <td>144.8272</td>\n",
       "      <td>4217.0</td>\n",
       "    </tr>\n",
       "  </tbody>\n",
       "</table>\n",
       "</div>"
      ],
      "text/plain": [
       "      Type Method             Regionname  Rooms  Distance  Postcode  Bedroom2  \\\n",
       "12167    u      S  Southern Metropolitan      1       5.0    3182.0       1.0   \n",
       "6524     h     SA   Western Metropolitan      2       8.0    3016.0       2.0   \n",
       "8413     h      S   Western Metropolitan      3      12.6    3020.0       3.0   \n",
       "2919     u     SP  Northern Metropolitan      3      13.0    3046.0       3.0   \n",
       "6043     h      S   Western Metropolitan      3      13.3    3020.0       3.0   \n",
       "\n",
       "       Bathroom  Landsize  Lattitude  Longtitude  Propertycount  \n",
       "12167       1.0       0.0  -37.85984    144.9867        13240.0  \n",
       "6524        2.0     193.0  -37.85800    144.9005         6380.0  \n",
       "8413        1.0     555.0  -37.79880    144.8220         3755.0  \n",
       "2919        1.0     265.0  -37.70830    144.9158         8870.0  \n",
       "6043        1.0     673.0  -37.76230    144.8272         4217.0  "
      ]
     },
     "execution_count": 14,
     "metadata": {},
     "output_type": "execute_result"
    }
   ],
   "source": [
    "X_train.head()"
   ]
  },
  {
   "cell_type": "code",
   "execution_count": 38,
   "id": "2237436d-f566-4fad-a4a1-76bb1cba3ef0",
   "metadata": {},
   "outputs": [
    {
     "name": "stdout",
     "output_type": "stream",
     "text": [
      "columnas categoricas\n",
      "['Type', 'Method', 'Regionname']\n"
     ]
    }
   ],
   "source": [
    "# Hacemos una lista de las columnas categoricas\n",
    "s = (X_train.dtypes == \"object\")\n",
    "object_cols = list(s[s].index)\n",
    "\n",
    "print(\"columnas categoricas\")\n",
    "print(object_list)"
   ]
  },
  {
   "cell_type": "code",
   "execution_count": 34,
   "id": "04b983ec-fd78-4dfc-a968-842708d9882b",
   "metadata": {},
   "outputs": [],
   "source": [
    "# definimos una funcion para medir la calidad de cada aproximacion\n",
    "from sklearn.ensemble import RandomForestRegressor\n",
    "from sklearn.metrics import mean_absolute_error\n",
    "\n",
    "# funcion para comparar diferentes aproximaciones\n",
    "def score_dataset(X_train,X_valid,y_train,y_valid):\n",
    "    model = RandomForestRegressor(n_estimators = 100, random_state = 0)\n",
    "    model.fit(X_train,y_train)\n",
    "    predict = model.predict(X_valid)\n",
    "    return mean_absolute_error(y_valid,predict)"
   ]
  },
  {
   "cell_type": "code",
   "execution_count": 36,
   "id": "eeb038fc-eb70-4c60-9571-b420d2af917a",
   "metadata": {},
   "outputs": [
    {
     "name": "stdout",
     "output_type": "stream",
     "text": [
      "MAE de aproximacion 1 (eliminamos columnas categoricas): \n",
      "175703.48185157913\n"
     ]
    }
   ],
   "source": [
    "# aprioximacion 1\n",
    "drop_X_train = X_train.select_dtypes(exclude = [\"object\"])\n",
    "drop_X_valid = X_valid.select_dtypes(exclude = [\"object\"])\n",
    "\n",
    "print('MAE de aproximacion 1 (eliminamos columnas categoricas): ')\n",
    "print(score_dataset(drop_X_train,drop_X_valid,y_train,y_valid))"
   ]
  },
  {
   "cell_type": "code",
   "execution_count": 48,
   "id": "70d693be-905c-4875-a56b-04b7330a54a7",
   "metadata": {},
   "outputs": [
    {
     "name": "stdout",
     "output_type": "stream",
     "text": [
      "MAE from aproach 2 (ordinal encoding): \n",
      "165936.40548390493\n"
     ]
    }
   ],
   "source": [
    "# aproximacion 2\n",
    "from sklearn.preprocessing import OrdinalEncoder\n",
    "\n",
    "# hacemos una copia de los conjuntos para evitar cambiarlos\n",
    "label_X_train = X_train.copy()\n",
    "label_X_valid = X_valid.copy()\n",
    "\n",
    "# comenzamos con el ordinal encoding\n",
    "ordinal_encoder = OrdinalEncoder()\n",
    "label_X_train[object_cols] = ordinal_encoder.fit_transform(X_train[object_cols])\n",
    "label_X_valid[object_cols] = ordinal_encoder.transform(X_valid[object_cols])\n",
    "\n",
    "print(\"MAE from aproach 2 (ordinal encoding): \")\n",
    "print(score_dataset(label_X_train,label_X_valid,y_train,y_valid))"
   ]
  },
  {
   "cell_type": "code",
   "execution_count": 54,
   "id": "dc0d8ca1-17d9-4817-aee6-aae6a9fe63df",
   "metadata": {},
   "outputs": [
    {
     "name": "stdout",
     "output_type": "stream",
     "text": [
      "MAE de la aproximacion 3 (OneHotEncoder): \n",
      "166089.4893009678\n"
     ]
    }
   ],
   "source": [
    "# puntuacion de la aproximacion 3 (OneHotEncoder)\n",
    "from sklearn.preprocessing import OneHotEncoder\n",
    "\n",
    "# aplicamos el OHE\n",
    "OH_encoder = OneHotEncoder(handle_unknown = 'ignore', sparse_output = False)\n",
    "OH_cols_train = pd.DataFrame(OH_encoder.fit_transform(X_train[object_cols]))\n",
    "OH_cols_valid = pd.DataFrame(OH_encoder.transform(X_valid[object_cols]))\n",
    "\n",
    "# el one hot encoding remueve los incides, pongamolos de nuevo\n",
    "OH_cols_train.index = X_train.index\n",
    "OH_cols_valid.index = X_valid.index\n",
    "\n",
    "# removemos las columnas categoricas, ya que las remplazaremos con el OHE\n",
    "num_X_train = X_train.drop(object_cols,axis = 1)\n",
    "num_X_valid = X_valid.drop(object_cols,axis = 1)\n",
    "\n",
    "# anadimos las columnas de OHE a num_X_train y num_X_valid\n",
    "OH_X_train = pd.concat([num_X_train, OH_cols_train],axis = 1)\n",
    "OH_X_valid = pd.concat([num_X_valid, OH_cols_valid],axis = 1)\n",
    "\n",
    "# nos aseguramosde que las columnas sean de tipo string\n",
    "OH_X_train.columns = OH_X_train.columns.astype(str)\n",
    "OH_X_valid.columns = OH_X_valid.columns.astype(str)\n",
    "\n",
    "print(\"MAE de la aproximacion 3 (OneHotEncoder): \")\n",
    "print(score_dataset(OH_X_train,OH_X_valid,y_train,y_valid))"
   ]
  },
  {
   "cell_type": "code",
   "execution_count": null,
   "id": "306d6df9-64cf-4aa4-bd98-eae5e26069f0",
   "metadata": {},
   "outputs": [],
   "source": []
  }
 ],
 "metadata": {
  "kernelspec": {
   "display_name": "Python 3 (ipykernel)",
   "language": "python",
   "name": "python3"
  },
  "language_info": {
   "codemirror_mode": {
    "name": "ipython",
    "version": 3
   },
   "file_extension": ".py",
   "mimetype": "text/x-python",
   "name": "python",
   "nbconvert_exporter": "python",
   "pygments_lexer": "ipython3",
   "version": "3.12.4"
  }
 },
 "nbformat": 4,
 "nbformat_minor": 5
}
